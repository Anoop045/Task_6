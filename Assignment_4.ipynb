{
 "cells": [
  {
   "cell_type": "code",
   "execution_count": 55,
   "id": "b8b41bad",
   "metadata": {},
   "outputs": [],
   "source": [
    "import numpy as np\n",
    "from numpy import loadtxt\n",
    "from io import StringIO "
   ]
  },
  {
   "cell_type": "code",
   "execution_count": 56,
   "id": "ab09f366",
   "metadata": {},
   "outputs": [],
   "source": [
    "#The dataset has 506 samples with 14 attributes"
   ]
  },
  {
   "cell_type": "code",
   "execution_count": 57,
   "id": "4dbc7799",
   "metadata": {},
   "outputs": [],
   "source": [
    "phi = np.loadtxt('train.csv', dtype='float', delimiter=',', skiprows=1,usecols=tuple(range(1, 14)))\n",
    "\n",
    "phi_test = np.loadtxt('test.csv', dtype='float', delimiter=',',skiprows=1, usecols=tuple(range(1, 14)))"
   ]
  },
  {
   "cell_type": "code",
   "execution_count": 58,
   "id": "ab928283",
   "metadata": {},
   "outputs": [
    {
     "data": {
      "text/plain": [
       "array([[9.55770e-01, 0.00000e+00, 8.14000e+00, ..., 2.10000e+01,\n",
       "        3.06380e+02, 1.72800e+01],\n",
       "       [2.87500e-02, 2.80000e+01, 1.50400e+01, ..., 1.82000e+01,\n",
       "        3.96330e+02, 6.21000e+00],\n",
       "       [1.22358e+00, 0.00000e+00, 1.95800e+01, ..., 1.47000e+01,\n",
       "        3.63430e+02, 4.59000e+00],\n",
       "       ...,\n",
       "       [6.65492e+00, 0.00000e+00, 1.81000e+01, ..., 2.02000e+01,\n",
       "        3.96900e+02, 1.39900e+01],\n",
       "       [1.31170e-01, 0.00000e+00, 8.56000e+00, ..., 2.09000e+01,\n",
       "        3.87690e+02, 1.40900e+01],\n",
       "       [6.46600e-02, 7.00000e+01, 2.24000e+00, ..., 1.48000e+01,\n",
       "        3.68240e+02, 4.97000e+00]])"
      ]
     },
     "execution_count": 58,
     "metadata": {},
     "output_type": "execute_result"
    }
   ],
   "source": [
    "phi"
   ]
  },
  {
   "cell_type": "code",
   "execution_count": 59,
   "id": "f00d8a8a",
   "metadata": {},
   "outputs": [],
   "source": [
    "y = np.loadtxt('train.csv', dtype='float', delimiter=',', skiprows=1,usecols=14, ndmin=2)"
   ]
  },
  {
   "cell_type": "code",
   "execution_count": 60,
   "id": "655a0a54",
   "metadata": {},
   "outputs": [],
   "source": [
    "#Concatenate coloumn of 1s to right of phi and phi_test\n",
    "phi=np.concatenate((phi, np.ones((400, 1))), axis=1)\n",
    "\n",
    "phi_test= np.concatenate((phi_test, np.ones((105, 1))), axis=1)\n"
   ]
  },
  {
   "cell_type": "code",
   "execution_count": 61,
   "id": "45027a71",
   "metadata": {},
   "outputs": [
    {
     "data": {
      "text/plain": [
       "(400, 14)"
      ]
     },
     "execution_count": 61,
     "metadata": {},
     "output_type": "execute_result"
    }
   ],
   "source": [
    "phi.shape"
   ]
  },
  {
   "cell_type": "code",
   "execution_count": 62,
   "id": "10e9d6c9",
   "metadata": {},
   "outputs": [
    {
     "data": {
      "text/plain": [
       "array([[9.55770e-01, 0.00000e+00, 8.14000e+00, ..., 3.06380e+02,\n",
       "        1.72800e+01, 1.00000e+00],\n",
       "       [2.87500e-02, 2.80000e+01, 1.50400e+01, ..., 3.96330e+02,\n",
       "        6.21000e+00, 1.00000e+00],\n",
       "       [1.22358e+00, 0.00000e+00, 1.95800e+01, ..., 3.63430e+02,\n",
       "        4.59000e+00, 1.00000e+00],\n",
       "       ...,\n",
       "       [6.65492e+00, 0.00000e+00, 1.81000e+01, ..., 3.96900e+02,\n",
       "        1.39900e+01, 1.00000e+00],\n",
       "       [1.31170e-01, 0.00000e+00, 8.56000e+00, ..., 3.87690e+02,\n",
       "        1.40900e+01, 1.00000e+00],\n",
       "       [6.46600e-02, 7.00000e+01, 2.24000e+00, ..., 3.68240e+02,\n",
       "        4.97000e+00, 1.00000e+00]])"
      ]
     },
     "execution_count": 62,
     "metadata": {},
     "output_type": "execute_result"
    }
   ],
   "source": [
    "phi"
   ]
  },
  {
   "cell_type": "code",
   "execution_count": 63,
   "id": "8119388c",
   "metadata": {},
   "outputs": [],
   "source": [
    "#Scaling phi and phi_test for given range(0,1)\n",
    "\n",
    "for i in range(0, 13):\n",
    "    maximum= max(phi[:, i])\n",
    "    minimum= min(phi[:, i])\n",
    "    phi[:, i]= (phi[:, i] - minimum) / (maximum - minimum)\n",
    "    phi_test[:, i]= (phi_test[:, i] -minimum) / (maximum - minimum)\n"
   ]
  },
  {
   "cell_type": "code",
   "execution_count": 64,
   "id": "c0111f8c",
   "metadata": {},
   "outputs": [
    {
     "data": {
      "text/plain": [
       "array([[1.06411199e-02, 0.00000000e+00, 2.81524927e-01, ...,\n",
       "        7.71748449e-01, 4.26074896e-01, 1.00000000e+00],\n",
       "       [2.21317669e-04, 2.94736842e-01, 5.34457478e-01, ...,\n",
       "        9.98562711e-01, 1.19001387e-01, 1.00000000e+00],\n",
       "       [1.36513324e-02, 0.00000000e+00, 7.00879765e-01, ...,\n",
       "        9.15603409e-01, 7.40638003e-02, 1.00000000e+00],\n",
       "       ...,\n",
       "       [7.47001646e-02, 0.00000000e+00, 6.46627566e-01, ...,\n",
       "        1.00000000e+00, 3.34812760e-01, 1.00000000e+00],\n",
       "       [1.37252923e-03, 0.00000000e+00, 2.96920821e-01, ...,\n",
       "        9.76776439e-01, 3.37586685e-01, 1.00000000e+00],\n",
       "       [6.24949841e-04, 7.36842105e-01, 6.52492669e-02, ...,\n",
       "        9.27732110e-01, 8.46047157e-02, 1.00000000e+00]])"
      ]
     },
     "execution_count": 64,
     "metadata": {},
     "output_type": "execute_result"
    }
   ],
   "source": [
    "phi"
   ]
  },
  {
   "cell_type": "code",
   "execution_count": 65,
   "id": "74f067e8",
   "metadata": {},
   "outputs": [],
   "source": [
    "#Apply log scaling on y\n",
    "\n",
    "y=np.log(y)"
   ]
  },
  {
   "cell_type": "code",
   "execution_count": 66,
   "id": "2ac1f5d4",
   "metadata": {},
   "outputs": [],
   "source": [
    "y=np.ravel(y)"
   ]
  },
  {
   "cell_type": "code",
   "execution_count": 67,
   "id": "1961d9be",
   "metadata": {},
   "outputs": [
    {
     "data": {
      "text/plain": [
       "(400,)"
      ]
     },
     "execution_count": 67,
     "metadata": {},
     "output_type": "execute_result"
    }
   ],
   "source": [
    "y.shape"
   ]
  },
  {
   "cell_type": "code",
   "execution_count": 68,
   "id": "59d4cbc5",
   "metadata": {},
   "outputs": [],
   "source": [
    "from sklearn.linear_model import SGDRegressor,Lasso,Ridge"
   ]
  },
  {
   "cell_type": "code",
   "execution_count": 69,
   "id": "1c49a900",
   "metadata": {},
   "outputs": [
    {
     "data": {
      "text/plain": [
       "SGDRegressor()"
      ]
     },
     "execution_count": 69,
     "metadata": {},
     "output_type": "execute_result"
    }
   ],
   "source": [
    "sgd=SGDRegressor()\n",
    "sgd.fit(phi,y)"
   ]
  },
  {
   "cell_type": "code",
   "execution_count": 70,
   "id": "e0352e72",
   "metadata": {},
   "outputs": [
    {
     "data": {
      "text/plain": [
       "array([-0.11038809,  0.25056119, -0.00225683,  0.14676508,  0.0139097 ,\n",
       "        0.6824259 ,  0.19273294,  0.3184194 , -0.12653571, -0.11695907,\n",
       "        0.14818076,  0.77225007, -0.18975202,  0.90070473])"
      ]
     },
     "execution_count": 70,
     "metadata": {},
     "output_type": "execute_result"
    }
   ],
   "source": [
    "sgd.coef_"
   ]
  },
  {
   "cell_type": "code",
   "execution_count": 71,
   "id": "704ae485",
   "metadata": {},
   "outputs": [
    {
     "data": {
      "text/plain": [
       "array([0.90154031])"
      ]
     },
     "execution_count": 71,
     "metadata": {},
     "output_type": "execute_result"
    }
   ],
   "source": [
    "sgd.intercept_"
   ]
  },
  {
   "cell_type": "code",
   "execution_count": 72,
   "id": "4a3c7711",
   "metadata": {},
   "outputs": [
    {
     "data": {
      "text/plain": [
       "0.4833373963622031"
      ]
     },
     "execution_count": 72,
     "metadata": {},
     "output_type": "execute_result"
    }
   ],
   "source": [
    "sgd.score(phi,y)"
   ]
  },
  {
   "cell_type": "code",
   "execution_count": 76,
   "id": "6e4f6adb",
   "metadata": {},
   "outputs": [
    {
     "data": {
      "text/plain": [
       "Lasso(alpha=0.2)"
      ]
     },
     "execution_count": 76,
     "metadata": {},
     "output_type": "execute_result"
    }
   ],
   "source": [
    "lasso=Lasso(alpha=0.2)\n",
    "lasso.fit(phi,y)\n"
   ]
  },
  {
   "cell_type": "code",
   "execution_count": 77,
   "id": "676a5fae",
   "metadata": {},
   "outputs": [
    {
     "data": {
      "text/plain": [
       "0.0"
      ]
     },
     "execution_count": 77,
     "metadata": {},
     "output_type": "execute_result"
    }
   ],
   "source": [
    "lasso.score(phi,y)"
   ]
  },
  {
   "cell_type": "code",
   "execution_count": 75,
   "id": "8b20b0d8",
   "metadata": {},
   "outputs": [
    {
     "data": {
      "text/plain": [
       "0.7890307008586942"
      ]
     },
     "execution_count": 75,
     "metadata": {},
     "output_type": "execute_result"
    }
   ],
   "source": [
    "ridge=Ridge()\n",
    "ridge.fit(phi,y)\n",
    "ridge.score(phi,y)"
   ]
  },
  {
   "cell_type": "code",
   "execution_count": null,
   "id": "d6150ed5",
   "metadata": {},
   "outputs": [],
   "source": []
  }
 ],
 "metadata": {
  "kernelspec": {
   "display_name": "Python 3 (ipykernel)",
   "language": "python",
   "name": "python3"
  },
  "language_info": {
   "codemirror_mode": {
    "name": "ipython",
    "version": 3
   },
   "file_extension": ".py",
   "mimetype": "text/x-python",
   "name": "python",
   "nbconvert_exporter": "python",
   "pygments_lexer": "ipython3",
   "version": "3.9.12"
  }
 },
 "nbformat": 4,
 "nbformat_minor": 5
}
